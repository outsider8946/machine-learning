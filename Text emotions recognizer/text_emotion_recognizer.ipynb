{
 "cells": [
  {
   "cell_type": "code",
   "execution_count": 11,
   "id": "c1d2e246-9fe2-434a-80d1-5d49e75cc925",
   "metadata": {},
   "outputs": [
    {
     "name": "stderr",
     "output_type": "stream",
     "text": [
      "[nltk_data] Downloading package stopwords to\n",
      "[nltk_data]     C:\\Users\\abram\\AppData\\Roaming\\nltk_data...\n",
      "[nltk_data]   Package stopwords is already up-to-date!\n",
      "[nltk_data] Downloading package wordnet to\n",
      "[nltk_data]     C:\\Users\\abram\\AppData\\Roaming\\nltk_data...\n",
      "[nltk_data]   Package wordnet is already up-to-date!\n"
     ]
    },
    {
     "data": {
      "text/plain": [
       "True"
      ]
     },
     "execution_count": 11,
     "metadata": {},
     "output_type": "execute_result"
    }
   ],
   "source": [
    "import pandas as pd\n",
    "import numpy as np\n",
    "from sklearn.feature_extraction.text import TfidfVectorizer\n",
    "from sklearn.model_selection import train_test_split\n",
    "from sklearn.metrics import accuracy_score\n",
    "from sklearn.svm import SVC\n",
    "import nltk\n",
    "nltk.download('stopwords')\n",
    "nltk.download('wordnet')"
   ]
  },
  {
   "cell_type": "code",
   "execution_count": 2,
   "id": "89df77fd-622d-43ee-a076-49cf5db12464",
   "metadata": {},
   "outputs": [
    {
     "data": {
      "text/html": [
       "<div>\n",
       "<style scoped>\n",
       "    .dataframe tbody tr th:only-of-type {\n",
       "        vertical-align: middle;\n",
       "    }\n",
       "\n",
       "    .dataframe tbody tr th {\n",
       "        vertical-align: top;\n",
       "    }\n",
       "\n",
       "    .dataframe thead th {\n",
       "        text-align: right;\n",
       "    }\n",
       "</style>\n",
       "<table border=\"1\" class=\"dataframe\">\n",
       "  <thead>\n",
       "    <tr style=\"text-align: right;\">\n",
       "      <th></th>\n",
       "      <th>Comment</th>\n",
       "      <th>Emotion</th>\n",
       "    </tr>\n",
       "  </thead>\n",
       "  <tbody>\n",
       "    <tr>\n",
       "      <th>0</th>\n",
       "      <td>i seriously hate one subject to death but now i feel reluctant to drop it</td>\n",
       "      <td>fear</td>\n",
       "    </tr>\n",
       "    <tr>\n",
       "      <th>1</th>\n",
       "      <td>im so full of life i feel appalled</td>\n",
       "      <td>anger</td>\n",
       "    </tr>\n",
       "    <tr>\n",
       "      <th>2</th>\n",
       "      <td>i sit here to write i start to dig out my feelings and i think that i am afraid to accept the possibility that he might not make it</td>\n",
       "      <td>fear</td>\n",
       "    </tr>\n",
       "    <tr>\n",
       "      <th>3</th>\n",
       "      <td>ive been really angry with r and i feel like an idiot for trusting him in the first place</td>\n",
       "      <td>joy</td>\n",
       "    </tr>\n",
       "    <tr>\n",
       "      <th>4</th>\n",
       "      <td>i feel suspicious if there is no one outside like the rapture has happened or something</td>\n",
       "      <td>fear</td>\n",
       "    </tr>\n",
       "    <tr>\n",
       "      <th>...</th>\n",
       "      <td>...</td>\n",
       "      <td>...</td>\n",
       "    </tr>\n",
       "    <tr>\n",
       "      <th>5932</th>\n",
       "      <td>i begun to feel distressed for you</td>\n",
       "      <td>fear</td>\n",
       "    </tr>\n",
       "    <tr>\n",
       "      <th>5933</th>\n",
       "      <td>i left feeling annoyed and angry thinking that i was the center of some stupid joke</td>\n",
       "      <td>anger</td>\n",
       "    </tr>\n",
       "    <tr>\n",
       "      <th>5934</th>\n",
       "      <td>i were to ever get married i d have everything ready to offer to him because i ve got it together and when i do go out to clubs even the perfect good looking guys feel intimated after talking to me about my clever self</td>\n",
       "      <td>joy</td>\n",
       "    </tr>\n",
       "    <tr>\n",
       "      <th>5935</th>\n",
       "      <td>i feel reluctant in applying there because i want to be able to find a company where i know at least one person</td>\n",
       "      <td>fear</td>\n",
       "    </tr>\n",
       "    <tr>\n",
       "      <th>5936</th>\n",
       "      <td>i just wanted to apologize to you because i feel like a heartless bitch</td>\n",
       "      <td>anger</td>\n",
       "    </tr>\n",
       "  </tbody>\n",
       "</table>\n",
       "<p>5937 rows × 2 columns</p>\n",
       "</div>"
      ],
      "text/plain": [
       "                                                                                                                                                                                                                         Comment  \\\n",
       "0     i seriously hate one subject to death but now i feel reluctant to drop it                                                                                                                                                    \n",
       "1     im so full of life i feel appalled                                                                                                                                                                                           \n",
       "2     i sit here to write i start to dig out my feelings and i think that i am afraid to accept the possibility that he might not make it                                                                                          \n",
       "3     ive been really angry with r and i feel like an idiot for trusting him in the first place                                                                                                                                    \n",
       "4     i feel suspicious if there is no one outside like the rapture has happened or something                                                                                                                                      \n",
       "...                                                                                       ...                                                                                                                                      \n",
       "5932  i begun to feel distressed for you                                                                                                                                                                                           \n",
       "5933  i left feeling annoyed and angry thinking that i was the center of some stupid joke                                                                                                                                          \n",
       "5934  i were to ever get married i d have everything ready to offer to him because i ve got it together and when i do go out to clubs even the perfect good looking guys feel intimated after talking to me about my clever self   \n",
       "5935  i feel reluctant in applying there because i want to be able to find a company where i know at least one person                                                                                                              \n",
       "5936  i just wanted to apologize to you because i feel like a heartless bitch                                                                                                                                                      \n",
       "\n",
       "     Emotion  \n",
       "0     fear    \n",
       "1     anger   \n",
       "2     fear    \n",
       "3     joy     \n",
       "4     fear    \n",
       "...    ...    \n",
       "5932  fear    \n",
       "5933  anger   \n",
       "5934  joy     \n",
       "5935  fear    \n",
       "5936  anger   \n",
       "\n",
       "[5937 rows x 2 columns]"
      ]
     },
     "execution_count": 2,
     "metadata": {},
     "output_type": "execute_result"
    }
   ],
   "source": [
    "pd.set_option('display.max_colwidth', 2)\n",
    "df = pd.read_csv(\"Emotion_classify_Data.csv\")\n",
    "df"
   ]
  },
  {
   "cell_type": "code",
   "execution_count": 3,
   "id": "3726cdcf-2839-4757-8853-27b806765625",
   "metadata": {
    "scrolled": true
   },
   "outputs": [],
   "source": [
    "stop_words = nltk.corpus.stopwords.words('english')\n",
    "additional_stop_words  = ['im', 'iv', 'ive']\n",
    "stop_words.extend(additional_stop_words)"
   ]
  },
  {
   "cell_type": "code",
   "execution_count": 4,
   "id": "424813ea-382c-40c6-83f4-40ab4592725b",
   "metadata": {},
   "outputs": [],
   "source": [
    "tokenizer = nltk.tokenize.RegexpTokenizer(r'\\w+')\n",
    "lemmatizer = nltk.stem.WordNetLemmatizer()\n",
    "\n",
    "def text_tokenize_and_lemmatize(text):\n",
    "    text_array = tokenizer.tokenize(text) \n",
    "    text_array = [i for i in text_array if i not in stop_words and len(i)!=1]\n",
    "    text_array = [lemmatizer.lemmatize(word) for word in text_array]\n",
    "    return \" \".join(text_array)"
   ]
  },
  {
   "cell_type": "code",
   "execution_count": 5,
   "id": "fa49ba71-65e1-4984-8cc7-4faaf152eae9",
   "metadata": {},
   "outputs": [],
   "source": [
    "df[\"Comment\"] = df[\"Comment\"].apply(lambda x: text_tokenize_and_lemmatize(x))"
   ]
  },
  {
   "cell_type": "code",
   "execution_count": 6,
   "id": "c07948aa-1c78-4ac6-82e2-caa64b7bf6c9",
   "metadata": {},
   "outputs": [
    {
     "data": {
      "text/plain": [
       "0       seriously hate one subject death feel reluctant drop                                                                         \n",
       "1       full life feel appalled                                                                                                      \n",
       "2       sit write start dig feeling think afraid accept possibility might make                                                       \n",
       "3       really angry feel like idiot trusting first place                                                                            \n",
       "4       feel suspicious one outside like rapture happened something                                                                  \n",
       "                                   ...                                                                                               \n",
       "5932    begun feel distressed                                                                                                        \n",
       "5933    left feeling annoyed angry thinking center stupid joke                                                                       \n",
       "5934    ever get married everything ready offer got together go club even perfect good looking guy feel intimated talking clever self\n",
       "5935    feel reluctant applying want able find company know least one person                                                         \n",
       "5936    wanted apologize feel like heartless bitch                                                                                   \n",
       "Name: Comment, Length: 5937, dtype: object"
      ]
     },
     "execution_count": 6,
     "metadata": {},
     "output_type": "execute_result"
    }
   ],
   "source": [
    "df[\"Comment\"]"
   ]
  },
  {
   "cell_type": "code",
   "execution_count": 7,
   "id": "e0863391-c26a-4329-b0b1-8b26249081de",
   "metadata": {},
   "outputs": [],
   "source": [
    "df[\"Emotion\"] = df[\"Emotion\"].map({'joy':0, 'fear': 1, 'anger':2})"
   ]
  },
  {
   "cell_type": "code",
   "execution_count": 8,
   "id": "0c927d74-0418-4126-b7cd-4f890c94c814",
   "metadata": {},
   "outputs": [
    {
     "data": {
      "text/plain": [
       "0       1\n",
       "1       2\n",
       "2       1\n",
       "3       0\n",
       "4       1\n",
       "       ..\n",
       "5932    1\n",
       "5933    2\n",
       "5934    0\n",
       "5935    1\n",
       "5936    2\n",
       "Name: Emotion, Length: 5937, dtype: int64"
      ]
     },
     "execution_count": 8,
     "metadata": {},
     "output_type": "execute_result"
    }
   ],
   "source": [
    "df[\"Emotion\"]"
   ]
  },
  {
   "cell_type": "code",
   "execution_count": 9,
   "id": "8eb3c36d-b963-4e7e-98db-47d92b8b1984",
   "metadata": {},
   "outputs": [],
   "source": [
    "y = df[\"Emotion\"]\n",
    "x = df[\"Comment\"]\n",
    "x = np.asarray(x, dtype = \"object\")\n",
    "vectorizer = TfidfVectorizer()\n",
    "x_cv = vectorizer.fit_transform(x)\n",
    "x_train, x_test, y_train, y_test = train_test_split(x_cv,y, test_size = 0.2, random_state = 42)"
   ]
  },
  {
   "cell_type": "code",
   "execution_count": 10,
   "id": "8494424e-2179-4c7c-a967-ae90594a2f97",
   "metadata": {},
   "outputs": [
    {
     "name": "stdout",
     "output_type": "stream",
     "text": [
      "train is sucess!\n"
     ]
    }
   ],
   "source": [
    "model = SVC()\n",
    "model.fit(x_train, y_train)\n",
    "print(\"train is sucess!\")"
   ]
  },
  {
   "cell_type": "code",
   "execution_count": 12,
   "id": "f56f198a-b908-4146-8d0e-92a93f8e5ab6",
   "metadata": {},
   "outputs": [
    {
     "name": "stdout",
     "output_type": "stream",
     "text": [
      "0.930976430976431\n"
     ]
    }
   ],
   "source": [
    "y_pred = model.predict(x_test)\n",
    "print(accuracy_score(y_test, y_pred))"
   ]
  }
 ],
 "metadata": {
  "kernelspec": {
   "display_name": "Python 3 (ipykernel)",
   "language": "python",
   "name": "python3"
  },
  "language_info": {
   "codemirror_mode": {
    "name": "ipython",
    "version": 3
   },
   "file_extension": ".py",
   "mimetype": "text/x-python",
   "name": "python",
   "nbconvert_exporter": "python",
   "pygments_lexer": "ipython3",
   "version": "3.11.5"
  }
 },
 "nbformat": 4,
 "nbformat_minor": 5
}
